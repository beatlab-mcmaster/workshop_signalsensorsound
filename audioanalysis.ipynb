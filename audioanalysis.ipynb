{
 "cells": [
  {
   "cell_type": "markdown",
   "id": "0b754e36-02fa-46df-aa4b-b6427931ad1b",
   "metadata": {},
   "source": [
    "[![Open In Colab](https://colab.research.google.com/assets/colab-badge.svg)](https://colab.research.google.com/github/beatlab-mcmaster/workshop_signalsensorsound/blob/main/audioanalysis.ipynb)"
   ]
  },
  {
   "cell_type": "markdown",
   "id": "0ea45a25-7e30-4d93-91d4-3d6e82aecf7e",
   "metadata": {},
   "source": [
    "# Signals, Sensors, Sounds - Pt. 1: Computational Audio Analysis\n",
    "\n",
    "Welcome to Colab! Colab, or \"Google Colaboratory\", lets you write and execute Python code in your browser. This notebook alternates two types of blocks, called \"cells\": **Markdown cells** (like this one) for text, and **code cells** (with a gray background) for Python code.  \n",
    "\n",
    "For example, here is a code cell that computes a value, stores it in a variable, and prints the result. Note that we can add text comments to Python code by using the `#` symbol. Any text between a `#` and the end of the line will be ignored by Python."
   ]
  },
  {
   "cell_type": "code",
   "execution_count": 1,
   "id": "8378748c-3c36-4302-98e0-89176e1dc7da",
   "metadata": {},
   "outputs": [
    {
     "name": "stdout",
     "output_type": "stream",
     "text": [
      "16\n"
     ]
    }
   ],
   "source": [
    "my_birthyear = 2008\n",
    "my_age = 2024 - my_birthyear # compute my age and store it in the variable my_age\n",
    "print(my_age) # print the variable my_age"
   ]
  },
  {
   "cell_type": "markdown",
   "id": "59b97495-b602-47c1-9b65-c6b8e5bca99b",
   "metadata": {},
   "source": [
    "To execute, or \"run\", the code in the above cell, hover over the cell and press the play button to the left of the code. You can also run the code by pressing \"Ctrl+Enter\" on your keyboard.  \n",
    "\n",
    "You can edit any code cell and run it to see what happens. \n",
    "\n",
    "<mark>**Task:** If you are new to Python notebooks, go ahead and change the variable \"my_birthyear\" in the above cell to your actual birth year, and then run the code to calculate your age. </mark>\n",
    "\n",
    "Note that your changes will not permanently alter this notebook - once you close this tab, your changes will be lost. If you want to save a personal copy of your edited notebook, you can use the File menu **File→Save a copy in Drive**.\n",
    "\n",
    "The first chapter of this notebook will give a brief introduction to the foundations of Python. If you are already familiar with Python, feel free to skip ahead to [1.4 Libraries](#1-4-libraries). You need to run the code cell in that chapter to load numpy, which will be used for the audio analysis later on."
   ]
  },
  {
   "cell_type": "markdown",
   "id": "affc5d79-bb51-48bf-b23d-6a2772945570",
   "metadata": {},
   "source": [
    "## 1. Introduction to Python\n",
    "\n",
    "Let's start with Python basics: variables, lists, functions, and libraries. "
   ]
  },
  {
   "cell_type": "markdown",
   "id": "f2d31238-9123-424d-bb88-66eed4390862",
   "metadata": {},
   "source": [
    "<a id='1-1-variables'></a>\n",
    "### 1.1 Variables\n",
    "\n",
    "In the first code cell, you defined two **variables**, \"my_birthyear\" and \"my_age\", that each store a number. In any future code cells, you can now call the variable name to access the stored number. You can also overwrite the variable at any time to hold a new value, by using the syntax `variable = value`:"
   ]
  },
  {
   "cell_type": "code",
   "execution_count": 2,
   "id": "b1c1a609-3130-492b-ac1a-a51549bef2ac",
   "metadata": {},
   "outputs": [
    {
     "name": "stdout",
     "output_type": "stream",
     "text": [
      "16\n",
      "99\n"
     ]
    }
   ],
   "source": [
    "print(my_age) # access the variable\n",
    "my_age = 99 # overwrite the old value\n",
    "print(my_age) # access the new value"
   ]
  },
  {
   "cell_type": "markdown",
   "id": "5a207218-63c5-4e16-9cdb-fd1903e4b0eb",
   "metadata": {},
   "source": [
    "Variables can not only store numbers (called **\"integers\"** or **\"floats\"**), but also text (called **\"strings\"**), and **Booleans**, which can represent one of two logical values `True` or `False`. Note that some of the operators will behave differently depending on which data type they are used on. The first code cell below assigns integers to the variables a and b, checks their types, and then adds the two integers using the `+` operator. The second code cell assigns strings instead of integers to the variables. The same `+` operator, used on strings instead of integers, concatenates the two strings:"
   ]
  },
  {
   "cell_type": "code",
   "execution_count": 3,
   "id": "e588dc9b-ba47-4f0b-b55d-22daa758f5cc",
   "metadata": {},
   "outputs": [
    {
     "name": "stdout",
     "output_type": "stream",
     "text": [
      "a:  <class 'int'>\n",
      "b:  <class 'int'>\n",
      "a + b =  42\n"
     ]
    }
   ],
   "source": [
    "a = 15 # assign variable a to be an integer\n",
    "b = 27 # assign variable b to be an integer\n",
    "print(\"a: \", type(a)) # check type of variable a\n",
    "print(\"b: \", type(b)) # check type of variable b\n",
    "print(\"a + b = \", a+b) # print a + b"
   ]
  },
  {
   "cell_type": "markdown",
   "id": "dd27707e-a3f7-404d-8ce8-8fad61b05393",
   "metadata": {},
   "source": [
    "<mark>**Task:** Change the operator to multiply the two integers a and b. </mark>"
   ]
  },
  {
   "cell_type": "code",
   "execution_count": 13,
   "id": "4a89fb4d-64db-49d2-b10b-725d4ddd9e00",
   "metadata": {},
   "outputs": [
    {
     "name": "stdout",
     "output_type": "stream",
     "text": [
      "a:  <class 'str'>\n",
      "b:  <class 'str'>\n",
      "a + b =  HelloWorld\n"
     ]
    }
   ],
   "source": [
    "a = \"Hello\" # assign variable a to be a string\n",
    "b = \"World\" # assign variable b to be a string\n",
    "print(\"a: \", type(a)) # check type of variable a\n",
    "print(\"b: \", type(b)) # check type of variable b\n",
    "print(\"a + b = \", a+b) # print a + b"
   ]
  },
  {
   "cell_type": "markdown",
   "id": "93e4f145-31a5-48f0-b8b4-d3a60cd66855",
   "metadata": {},
   "source": [
    "<mark>**Task:** What happens when you try to multiply two strings instead of two integers? </mark>  \n",
    "\n",
    "<mark>**Task:** Change the operator back to `+`. Assign an integer to variable a and a string to variable b. What happens when you try to add the variables now? </mark>"
   ]
  },
  {
   "cell_type": "markdown",
   "id": "337c2033-ad8f-4298-b6b8-00c43bb31801",
   "metadata": {},
   "source": [
    "### 1.2 Lists\n",
    "\n",
    "Variables can also store multiple values in the form of a **list**. Lists are created using square brackets `[]`:"
   ]
  },
  {
   "cell_type": "code",
   "execution_count": 7,
   "id": "640de4e0-e404-4395-9bc1-a0fde4bd6eee",
   "metadata": {},
   "outputs": [
    {
     "name": "stdout",
     "output_type": "stream",
     "text": [
      "['beat', 'metre', 'tempo']\n"
     ]
    }
   ],
   "source": [
    "rhythm = [\"beat\", \"metre\", \"tempo\"] # assign new list to the variable \"rhythm\"\n",
    "print(rhythm)"
   ]
  },
  {
   "cell_type": "markdown",
   "id": "c65d0d86-7aa5-40e5-859d-e36b408e307b",
   "metadata": {},
   "source": [
    "Python lists are ordered, which means that each item has a fixed position in the list. The position is defined by the **index**. Note that the first item has the index 0. Using the index, you can access a specific item from the list: "
   ]
  },
  {
   "cell_type": "code",
   "execution_count": 16,
   "id": "054ecdb0-5c3a-43fd-b0a3-f06291faa6d4",
   "metadata": {},
   "outputs": [
    {
     "name": "stdout",
     "output_type": "stream",
     "text": [
      "metre\n"
     ]
    }
   ],
   "source": [
    "print(rhythm[1]) # print the list item with the index 1"
   ]
  },
  {
   "cell_type": "markdown",
   "id": "60125c2d-a5c1-4557-9532-90d895299a0c",
   "metadata": {},
   "source": [
    "<mark>**Task:** Using the `variable = value` syntax and the correct list index, replace the first item of the rhythm list with \"pulse\". Print your list to see whether it worked. </mark>"
   ]
  },
  {
   "cell_type": "markdown",
   "id": "b854e16a-9462-4e99-a209-d335fcb14016",
   "metadata": {},
   "source": [
    "### 1.3 Functions\n",
    "\n",
    "For operations on variables that go beyond the simple operators `+ - * / =`, you can use **functions**. Functions take the form `functionName(arguments)`. Python comes with handy functions, like `print()` and `type()` which you have already used above. Functions take **arguments** in the function brackets. For functions like `print()` and `type()`, the only argument you need to specify is the variable that you want to print or check the type of. Other functions take several arguments. For example, for the function `round()`, the first argument specifies the object that you want to round, and the second argument specifies the number of decimal places of the output:"
   ]
  },
  {
   "cell_type": "code",
   "execution_count": 17,
   "id": "1841ed73-cb33-4b30-89d7-bb835621f1e4",
   "metadata": {},
   "outputs": [
    {
     "data": {
      "text/plain": [
       "3.14"
      ]
     },
     "execution_count": 17,
     "metadata": {},
     "output_type": "execute_result"
    }
   ],
   "source": [
    "pi = 3.14159265359 \n",
    "round(pi, 2) # round the variable \"pi\" to two digits"
   ]
  },
  {
   "cell_type": "markdown",
   "id": "82dd795a-2efb-414b-99e3-44630139282f",
   "metadata": {},
   "source": [
    "If you want to know which arguments a function takes, or what the function does with the arguments, you can call the `help()` function to read the function documentation: "
   ]
  },
  {
   "cell_type": "code",
   "execution_count": 18,
   "id": "6f6caaf5-6e7f-4772-a78a-0a601ec9f61d",
   "metadata": {},
   "outputs": [
    {
     "name": "stdout",
     "output_type": "stream",
     "text": [
      "Help on built-in function round in module builtins:\n",
      "\n",
      "round(number, ndigits=None)\n",
      "    Round a number to a given precision in decimal digits.\n",
      "\n",
      "    The return value is an integer if ndigits is omitted or None.  Otherwise\n",
      "    the return value has the same type as the number.  ndigits may be negative.\n",
      "\n"
     ]
    }
   ],
   "source": [
    "help(round)"
   ]
  },
  {
   "cell_type": "markdown",
   "id": "610dd0c3-d6e5-4ba6-9f0c-59ec13a85474",
   "metadata": {},
   "source": [
    "The different variable types that were introduced in [1.1. Variables](#1-1-variables) each come with their own functions, called **methods**. To use a method on a variable, instead of passing the variable as an argument, you use the syntax `variable.method()`. For example, `list.count()` counts how often a value (passed as argument) occurs in a list: "
   ]
  },
  {
   "cell_type": "code",
   "execution_count": 23,
   "id": "df07ba07-a77f-4faa-9e52-cf5c64697134",
   "metadata": {},
   "outputs": [
    {
     "data": {
      "text/plain": [
       "4"
      ]
     },
     "execution_count": 23,
     "metadata": {},
     "output_type": "execute_result"
    }
   ],
   "source": [
    "student_ages = [14, 16, 15, 16, 15, 17, 16, 18, 18, 18, 16, 17]\n",
    "student_ages.count(16) # count how often 16 appears in the list"
   ]
  },
  {
   "cell_type": "markdown",
   "id": "ce57b1da-8e39-43d2-bec5-0f5656407cb7",
   "metadata": {},
   "source": [
    "<mark>**Task:** Call `help(list)` to see all methods of the variable type `list`. Try some of them on the student_ages list. </mark> "
   ]
  },
  {
   "cell_type": "markdown",
   "id": "19eafc7b-f88f-4767-a0cb-558c01c96198",
   "metadata": {},
   "source": [
    "A function is nothing but a block of code that was assigned to a function name. When calling the function name, the code is executed. This means that you can write your own functions and execute them by calling the function name that you assigned them. For example, the following code cell defines a function called `my_mean` that computes the mean of all items in a list. Note that the code for the function is indented to delimit where the function code begins and ends. "
   ]
  },
  {
   "cell_type": "code",
   "execution_count": 28,
   "id": "1539bcae-1ed3-4e17-b696-995c8cce1635",
   "metadata": {},
   "outputs": [
    {
     "name": "stdout",
     "output_type": "stream",
     "text": [
      "16.333333333333332\n"
     ]
    }
   ],
   "source": [
    "def my_mean(my_list): \n",
    "    my_sum = sum(my_list) # calculate the sum of all items in the list\n",
    "    my_length = len(my_list) # count how many items are in the list \n",
    "    my_mean = my_sum / my_length # calculate the mean as sum/length\n",
    "    return my_mean # return the variable \"my_mean\"\n",
    "\n",
    "mean_age = my_mean(student_ages)\n",
    "print(mean_age)"
   ]
  },
  {
   "cell_type": "markdown",
   "id": "da574386-c2ca-4eb9-ac8f-7bb9f1836e9f",
   "metadata": {},
   "source": [
    "<mark>**Task:** Write a function that takes two integers as arguments a and b and returns their product. </mark>"
   ]
  },
  {
   "cell_type": "markdown",
   "id": "372ad0c4-58ac-4649-821b-9cce22461c3c",
   "metadata": {},
   "source": [
    "<a id='1-4-libraries'></a>\n",
    "### 1.4 Libraries\n",
    "\n",
    "Luckily, you don't have to write new functions for everything you want to do in Python. Other developers have written functions for common operations and published them in **libraries**. To use the functions in a library, you first need to import the library. For example, the library NumPy is popular for numeric operations on arrays, which are similar to lists but require less computing power. The following code cell imports NumPy (calling it \"np\" as an abbreviation), creates an array, adds a constant to the array, and computes the mean of the result:"
   ]
  },
  {
   "cell_type": "code",
   "execution_count": 26,
   "id": "8bbfa644-f76a-4c61-af07-e5e10e4e99e3",
   "metadata": {},
   "outputs": [
    {
     "name": "stdout",
     "output_type": "stream",
     "text": [
      "22.3\n"
     ]
    }
   ],
   "source": [
    "import numpy as np # import NumPy library and call it \"np\"\n",
    "\n",
    "student_ages = np.array([14, 16, 15, 16, 15, 17, 16, 18, 18, 18, 16, 17]) # create a new array\n",
    "student_ages_2030 = student_ages + 6\n",
    "mean_age_2030 = student_ages_2030.mean()\n",
    "print(round(mean_age_2030, 1)) # print mean age in 2030"
   ]
  },
  {
   "cell_type": "markdown",
   "id": "cc29970f-e3a9-47be-be13-b2b8176f7ba5",
   "metadata": {},
   "source": [
    "<a id='2-read-audio'></a>\n",
    "## 2. Read an Audio File\n",
    "\n",
    "This part includes saving a file to the local storage and reading it in, so we need to set the folder path using the os library:"
   ]
  },
  {
   "cell_type": "code",
   "execution_count": 11,
   "id": "c8db289a-c96e-4a63-92fd-421a2410963d",
   "metadata": {},
   "outputs": [
    {
     "ename": "FileNotFoundError",
     "evalue": "[WinError 2] The system cannot find the file specified: 'workshop_signalsensorsound/'",
     "output_type": "error",
     "traceback": [
      "\u001b[1;31m---------------------------------------------------------------------------\u001b[0m",
      "\u001b[1;31mFileNotFoundError\u001b[0m                         Traceback (most recent call last)",
      "Cell \u001b[1;32mIn[11], line 2\u001b[0m\n\u001b[0;32m      1\u001b[0m \u001b[38;5;28;01mimport\u001b[39;00m \u001b[38;5;21;01mos\u001b[39;00m\n\u001b[1;32m----> 2\u001b[0m \u001b[43mos\u001b[49m\u001b[38;5;241;43m.\u001b[39;49m\u001b[43mchdir\u001b[49m\u001b[43m(\u001b[49m\u001b[38;5;124;43m\"\u001b[39;49m\u001b[38;5;124;43mworkshop_signalsensorsound/\u001b[39;49m\u001b[38;5;124;43m\"\u001b[39;49m\u001b[43m)\u001b[49m\n",
      "\u001b[1;31mFileNotFoundError\u001b[0m: [WinError 2] The system cannot find the file specified: 'workshop_signalsensorsound/'"
     ]
    }
   ],
   "source": [
    "import os\n",
    "os.chdir(\"workshop_signalsensorsound\")"
   ]
  },
  {
   "cell_type": "markdown",
   "id": "b142a1b5-ea8e-4468-8fba-4abf7bf83c4c",
   "metadata": {},
   "source": [
    "Let's see what Python can do with audio! First, let's download an audio file from YouTube, load it into the Python session, and explore the file."
   ]
  },
  {
   "cell_type": "markdown",
   "id": "e03febb1-bcce-4419-a450-8eb26bd3e036",
   "metadata": {},
   "source": [
    "### 2.1 Download Audio\n",
    "\n",
    "To download an audio file from YouTube, we will use the yt-dlp library. Since Colab does not come with an installation of yt-dlp, you need to install it first:"
   ]
  },
  {
   "cell_type": "code",
   "execution_count": 8,
   "id": "102c784a-ab06-4194-be9f-7bd742a6aac2",
   "metadata": {},
   "outputs": [
    {
     "name": "stdout",
     "output_type": "stream",
     "text": [
      "Collecting yt_dlp\n",
      "  Downloading yt_dlp-2024.11.4-py3-none-any.whl.metadata (172 kB)\n",
      "Downloading yt_dlp-2024.11.4-py3-none-any.whl (3.2 MB)\n",
      "   ---------------------------------------- 0.0/3.2 MB ? eta -:--:--\n",
      "   ---------------------------------------- 3.2/3.2 MB 37.2 MB/s eta 0:00:00\n",
      "Installing collected packages: yt_dlp\n",
      "Successfully installed yt_dlp-2024.11.4\n",
      "Note: you may need to restart the kernel to use updated packages.\n"
     ]
    },
    {
     "name": "stderr",
     "output_type": "stream",
     "text": [
      "\n",
      "[notice] A new release of pip is available: 24.2 -> 24.3.1\n",
      "[notice] To update, run: C:\\Users\\Joshua Schlichting\\AppData\\Local\\Programs\\Python\\Python312\\python.exe -m pip install --upgrade pip\n"
     ]
    }
   ],
   "source": [
    "pip install yt_dlp"
   ]
  },
  {
   "cell_type": "markdown",
   "id": "e9e7e313-dabf-40df-a2aa-21be001a0cba",
   "metadata": {},
   "source": [
    "Then, import the library to your current Python session:"
   ]
  },
  {
   "cell_type": "code",
   "execution_count": 9,
   "id": "65f08887-61a8-42cb-ba11-527bd629f660",
   "metadata": {},
   "outputs": [],
   "source": [
    "import yt_dlp"
   ]
  },
  {
   "cell_type": "markdown",
   "id": "2e0195bf-6ca3-4139-9a4e-455d4df61c3b",
   "metadata": {},
   "source": [
    "Now, go to [YouTube.com](https://www.youtube.com), search for your favourite song, copy the video url, and paste it as argument to the `download()` method in the code cell below. Make sure to enclose the URL in parenthesis! The code cell uses the `yt-dlp.YoutbeDL()` function to set download options (`'format': 'bestaudio'` sets the format to audio, rather than video, and `'outtmpl': 'myaudio.mp3'` sets the file name and file type), and the `download()` method to download from your chosen YouTube link. When you run the code cell, your song will be downloaded and stored as \"myaudio.mp3\" in the temporary Colab cloud storage."
   ]
  },
  {
   "cell_type": "code",
   "execution_count": 15,
   "id": "1f385c0e-64ae-4334-ad7c-040a0857dc34",
   "metadata": {},
   "outputs": [
    {
     "name": "stdout",
     "output_type": "stream",
     "text": [
      "[youtube] Extracting URL: https://www.youtube.com/watch?v=X_5D1t8Qkus\n",
      "[youtube] X_5D1t8Qkus: Downloading webpage\n",
      "[youtube] X_5D1t8Qkus: Downloading ios player API JSON\n",
      "[youtube] X_5D1t8Qkus: Downloading mweb player API JSON\n",
      "[youtube] X_5D1t8Qkus: Downloading m3u8 information\n",
      "[info] X_5D1t8Qkus: Downloading 1 format(s): 251\n",
      "[download] Destination: myaudio.mp3\n",
      "[download] 100% of    2.75MiB in 00:00:00 at 15.61MiB/s  \n"
     ]
    },
    {
     "data": {
      "text/plain": [
       "0"
      ]
     },
     "execution_count": 15,
     "metadata": {},
     "output_type": "execute_result"
    }
   ],
   "source": [
    "yt_dlp.YoutubeDL({'format': 'bestaudio', 'outtmpl': 'myaudio.mp3'}).download(\"https://www.youtube.com/watch?v=X_5D1t8Qkus\") # download MP3 from YouTube"
   ]
  },
  {
   "cell_type": "markdown",
   "id": "9f7c9bc8-2c56-4c22-9826-26a46d3caed0",
   "metadata": {},
   "source": [
    "### 2.2 Load Audio in Python\n",
    "\n",
    "If you didn't get yt-dlp to work, you can use *my* favourite song for the following steps, which is already saved as \"myaudio.mp3\" (unless you overwrote the file with your own song in the previous step). \n",
    "\n",
    "For the next steps, we will use the librosa library, which provides a wide range of functions to display and analyse audio in Python. First, import librosa:"
   ]
  },
  {
   "cell_type": "code",
   "execution_count": 15,
   "id": "0d47561d-6f54-45e1-b855-9448e21ad501",
   "metadata": {},
   "outputs": [],
   "source": [
    "import librosa"
   ]
  },
  {
   "cell_type": "markdown",
   "id": "646d8bbf-c81e-4211-a333-89ac0e165336",
   "metadata": {},
   "source": [
    "Next, load myaudio.mp3 using the `librosa.load()` function. Audio files are stored in two variables: y stores the waveform as a time series of amplitudes, and sr stores the sampling rate, that is, the number of samples per second of audio."
   ]
  },
  {
   "cell_type": "code",
   "execution_count": 16,
   "id": "5b3d4136-85ce-4d0d-9b8f-a05bffc90a79",
   "metadata": {},
   "outputs": [
    {
     "name": "stderr",
     "output_type": "stream",
     "text": [
      "C:\\Users\\Joshua Schlichting\\AppData\\Local\\Temp\\ipykernel_35092\\1179788265.py:1: UserWarning: PySoundFile failed. Trying audioread instead.\n",
      "  y, sr = librosa.load('myaudio.mp3') # store the audio in the two variables y and sr\n"
     ]
    },
    {
     "ename": "NoBackendError",
     "evalue": "",
     "output_type": "error",
     "traceback": [
      "\u001b[1;31m---------------------------------------------------------------------------\u001b[0m",
      "\u001b[1;31mLibsndfileError\u001b[0m                           Traceback (most recent call last)",
      "File \u001b[1;32m~\\AppData\\Local\\Programs\\Python\\Python312\\Lib\\site-packages\\librosa\\core\\audio.py:176\u001b[0m, in \u001b[0;36mload\u001b[1;34m(path, sr, mono, offset, duration, dtype, res_type)\u001b[0m\n\u001b[0;32m    175\u001b[0m \u001b[38;5;28;01mtry\u001b[39;00m:\n\u001b[1;32m--> 176\u001b[0m     y, sr_native \u001b[38;5;241m=\u001b[39m \u001b[43m__soundfile_load\u001b[49m\u001b[43m(\u001b[49m\u001b[43mpath\u001b[49m\u001b[43m,\u001b[49m\u001b[43m \u001b[49m\u001b[43moffset\u001b[49m\u001b[43m,\u001b[49m\u001b[43m \u001b[49m\u001b[43mduration\u001b[49m\u001b[43m,\u001b[49m\u001b[43m \u001b[49m\u001b[43mdtype\u001b[49m\u001b[43m)\u001b[49m\n\u001b[0;32m    178\u001b[0m \u001b[38;5;28;01mexcept\u001b[39;00m sf\u001b[38;5;241m.\u001b[39mSoundFileRuntimeError \u001b[38;5;28;01mas\u001b[39;00m exc:\n\u001b[0;32m    179\u001b[0m     \u001b[38;5;66;03m# If soundfile failed, try audioread instead\u001b[39;00m\n",
      "File \u001b[1;32m~\\AppData\\Local\\Programs\\Python\\Python312\\Lib\\site-packages\\librosa\\core\\audio.py:209\u001b[0m, in \u001b[0;36m__soundfile_load\u001b[1;34m(path, offset, duration, dtype)\u001b[0m\n\u001b[0;32m    207\u001b[0m \u001b[38;5;28;01melse\u001b[39;00m:\n\u001b[0;32m    208\u001b[0m     \u001b[38;5;66;03m# Otherwise, create the soundfile object\u001b[39;00m\n\u001b[1;32m--> 209\u001b[0m     context \u001b[38;5;241m=\u001b[39m \u001b[43msf\u001b[49m\u001b[38;5;241;43m.\u001b[39;49m\u001b[43mSoundFile\u001b[49m\u001b[43m(\u001b[49m\u001b[43mpath\u001b[49m\u001b[43m)\u001b[49m\n\u001b[0;32m    211\u001b[0m \u001b[38;5;28;01mwith\u001b[39;00m context \u001b[38;5;28;01mas\u001b[39;00m sf_desc:\n",
      "File \u001b[1;32m~\\AppData\\Local\\Programs\\Python\\Python312\\Lib\\site-packages\\soundfile.py:658\u001b[0m, in \u001b[0;36mSoundFile.__init__\u001b[1;34m(self, file, mode, samplerate, channels, subtype, endian, format, closefd)\u001b[0m\n\u001b[0;32m    656\u001b[0m \u001b[38;5;28mself\u001b[39m\u001b[38;5;241m.\u001b[39m_info \u001b[38;5;241m=\u001b[39m _create_info_struct(file, mode, samplerate, channels,\n\u001b[0;32m    657\u001b[0m                                  \u001b[38;5;28mformat\u001b[39m, subtype, endian)\n\u001b[1;32m--> 658\u001b[0m \u001b[38;5;28mself\u001b[39m\u001b[38;5;241m.\u001b[39m_file \u001b[38;5;241m=\u001b[39m \u001b[38;5;28;43mself\u001b[39;49m\u001b[38;5;241;43m.\u001b[39;49m\u001b[43m_open\u001b[49m\u001b[43m(\u001b[49m\u001b[43mfile\u001b[49m\u001b[43m,\u001b[49m\u001b[43m \u001b[49m\u001b[43mmode_int\u001b[49m\u001b[43m,\u001b[49m\u001b[43m \u001b[49m\u001b[43mclosefd\u001b[49m\u001b[43m)\u001b[49m\n\u001b[0;32m    659\u001b[0m \u001b[38;5;28;01mif\u001b[39;00m \u001b[38;5;28mset\u001b[39m(mode)\u001b[38;5;241m.\u001b[39missuperset(\u001b[38;5;124m'\u001b[39m\u001b[38;5;124mr+\u001b[39m\u001b[38;5;124m'\u001b[39m) \u001b[38;5;129;01mand\u001b[39;00m \u001b[38;5;28mself\u001b[39m\u001b[38;5;241m.\u001b[39mseekable():\n\u001b[0;32m    660\u001b[0m     \u001b[38;5;66;03m# Move write position to 0 (like in Python file objects)\u001b[39;00m\n",
      "File \u001b[1;32m~\\AppData\\Local\\Programs\\Python\\Python312\\Lib\\site-packages\\soundfile.py:1216\u001b[0m, in \u001b[0;36mSoundFile._open\u001b[1;34m(self, file, mode_int, closefd)\u001b[0m\n\u001b[0;32m   1215\u001b[0m     err \u001b[38;5;241m=\u001b[39m _snd\u001b[38;5;241m.\u001b[39msf_error(file_ptr)\n\u001b[1;32m-> 1216\u001b[0m     \u001b[38;5;28;01mraise\u001b[39;00m LibsndfileError(err, prefix\u001b[38;5;241m=\u001b[39m\u001b[38;5;124m\"\u001b[39m\u001b[38;5;124mError opening \u001b[39m\u001b[38;5;132;01m{0!r}\u001b[39;00m\u001b[38;5;124m: \u001b[39m\u001b[38;5;124m\"\u001b[39m\u001b[38;5;241m.\u001b[39mformat(\u001b[38;5;28mself\u001b[39m\u001b[38;5;241m.\u001b[39mname))\n\u001b[0;32m   1217\u001b[0m \u001b[38;5;28;01mif\u001b[39;00m mode_int \u001b[38;5;241m==\u001b[39m _snd\u001b[38;5;241m.\u001b[39mSFM_WRITE:\n\u001b[0;32m   1218\u001b[0m     \u001b[38;5;66;03m# Due to a bug in libsndfile version <= 1.0.25, frames != 0\u001b[39;00m\n\u001b[0;32m   1219\u001b[0m     \u001b[38;5;66;03m# when opening a named pipe in SFM_WRITE mode.\u001b[39;00m\n\u001b[0;32m   1220\u001b[0m     \u001b[38;5;66;03m# See http://github.com/erikd/libsndfile/issues/77.\u001b[39;00m\n",
      "\u001b[1;31mLibsndfileError\u001b[0m: Error opening 'myaudio.mp3': File does not exist or is not a regular file (possibly a pipe?).",
      "\nDuring handling of the above exception, another exception occurred:\n",
      "\u001b[1;31mNoBackendError\u001b[0m                            Traceback (most recent call last)",
      "Cell \u001b[1;32mIn[16], line 1\u001b[0m\n\u001b[1;32m----> 1\u001b[0m y, sr \u001b[38;5;241m=\u001b[39m \u001b[43mlibrosa\u001b[49m\u001b[38;5;241;43m.\u001b[39;49m\u001b[43mload\u001b[49m\u001b[43m(\u001b[49m\u001b[38;5;124;43m'\u001b[39;49m\u001b[38;5;124;43mmyaudio.mp3\u001b[39;49m\u001b[38;5;124;43m'\u001b[39;49m\u001b[43m)\u001b[49m \u001b[38;5;66;03m# store the audio in the two variables y and sr\u001b[39;00m\n",
      "File \u001b[1;32m~\\AppData\\Local\\Programs\\Python\\Python312\\Lib\\site-packages\\librosa\\core\\audio.py:184\u001b[0m, in \u001b[0;36mload\u001b[1;34m(path, sr, mono, offset, duration, dtype, res_type)\u001b[0m\n\u001b[0;32m    180\u001b[0m \u001b[38;5;28;01mif\u001b[39;00m \u001b[38;5;28misinstance\u001b[39m(path, (\u001b[38;5;28mstr\u001b[39m, pathlib\u001b[38;5;241m.\u001b[39mPurePath)):\n\u001b[0;32m    181\u001b[0m     warnings\u001b[38;5;241m.\u001b[39mwarn(\n\u001b[0;32m    182\u001b[0m         \u001b[38;5;124m\"\u001b[39m\u001b[38;5;124mPySoundFile failed. Trying audioread instead.\u001b[39m\u001b[38;5;124m\"\u001b[39m, stacklevel\u001b[38;5;241m=\u001b[39m\u001b[38;5;241m2\u001b[39m\n\u001b[0;32m    183\u001b[0m     )\n\u001b[1;32m--> 184\u001b[0m     y, sr_native \u001b[38;5;241m=\u001b[39m \u001b[43m__audioread_load\u001b[49m\u001b[43m(\u001b[49m\u001b[43mpath\u001b[49m\u001b[43m,\u001b[49m\u001b[43m \u001b[49m\u001b[43moffset\u001b[49m\u001b[43m,\u001b[49m\u001b[43m \u001b[49m\u001b[43mduration\u001b[49m\u001b[43m,\u001b[49m\u001b[43m \u001b[49m\u001b[43mdtype\u001b[49m\u001b[43m)\u001b[49m\n\u001b[0;32m    185\u001b[0m \u001b[38;5;28;01melse\u001b[39;00m:\n\u001b[0;32m    186\u001b[0m     \u001b[38;5;28;01mraise\u001b[39;00m exc\n",
      "File \u001b[1;32m~\\AppData\\Local\\Programs\\Python\\Python312\\Lib\\site-packages\\decorator.py:232\u001b[0m, in \u001b[0;36mdecorate.<locals>.fun\u001b[1;34m(*args, **kw)\u001b[0m\n\u001b[0;32m    230\u001b[0m \u001b[38;5;28;01mif\u001b[39;00m \u001b[38;5;129;01mnot\u001b[39;00m kwsyntax:\n\u001b[0;32m    231\u001b[0m     args, kw \u001b[38;5;241m=\u001b[39m fix(args, kw, sig)\n\u001b[1;32m--> 232\u001b[0m \u001b[38;5;28;01mreturn\u001b[39;00m \u001b[43mcaller\u001b[49m\u001b[43m(\u001b[49m\u001b[43mfunc\u001b[49m\u001b[43m,\u001b[49m\u001b[43m \u001b[49m\u001b[38;5;241;43m*\u001b[39;49m\u001b[43m(\u001b[49m\u001b[43mextras\u001b[49m\u001b[43m \u001b[49m\u001b[38;5;241;43m+\u001b[39;49m\u001b[43m \u001b[49m\u001b[43margs\u001b[49m\u001b[43m)\u001b[49m\u001b[43m,\u001b[49m\u001b[43m \u001b[49m\u001b[38;5;241;43m*\u001b[39;49m\u001b[38;5;241;43m*\u001b[39;49m\u001b[43mkw\u001b[49m\u001b[43m)\u001b[49m\n",
      "File \u001b[1;32m~\\AppData\\Local\\Programs\\Python\\Python312\\Lib\\site-packages\\librosa\\util\\decorators.py:59\u001b[0m, in \u001b[0;36mdeprecated.<locals>.__wrapper\u001b[1;34m(func, *args, **kwargs)\u001b[0m\n\u001b[0;32m     50\u001b[0m \u001b[38;5;250m\u001b[39m\u001b[38;5;124;03m\"\"\"Warn the user, and then proceed.\"\"\"\u001b[39;00m\n\u001b[0;32m     51\u001b[0m warnings\u001b[38;5;241m.\u001b[39mwarn(\n\u001b[0;32m     52\u001b[0m     \u001b[38;5;124m\"\u001b[39m\u001b[38;5;132;01m{:s}\u001b[39;00m\u001b[38;5;124m.\u001b[39m\u001b[38;5;132;01m{:s}\u001b[39;00m\u001b[38;5;130;01m\\n\u001b[39;00m\u001b[38;5;130;01m\\t\u001b[39;00m\u001b[38;5;124mDeprecated as of librosa version \u001b[39m\u001b[38;5;132;01m{:s}\u001b[39;00m\u001b[38;5;124m.\u001b[39m\u001b[38;5;124m\"\u001b[39m\n\u001b[0;32m     53\u001b[0m     \u001b[38;5;124m\"\u001b[39m\u001b[38;5;130;01m\\n\u001b[39;00m\u001b[38;5;130;01m\\t\u001b[39;00m\u001b[38;5;124mIt will be removed in librosa version \u001b[39m\u001b[38;5;132;01m{:s}\u001b[39;00m\u001b[38;5;124m.\u001b[39m\u001b[38;5;124m\"\u001b[39m\u001b[38;5;241m.\u001b[39mformat(\n\u001b[1;32m   (...)\u001b[0m\n\u001b[0;32m     57\u001b[0m     stacklevel\u001b[38;5;241m=\u001b[39m\u001b[38;5;241m3\u001b[39m,  \u001b[38;5;66;03m# Would be 2, but the decorator adds a level\u001b[39;00m\n\u001b[0;32m     58\u001b[0m )\n\u001b[1;32m---> 59\u001b[0m \u001b[38;5;28;01mreturn\u001b[39;00m \u001b[43mfunc\u001b[49m\u001b[43m(\u001b[49m\u001b[38;5;241;43m*\u001b[39;49m\u001b[43margs\u001b[49m\u001b[43m,\u001b[49m\u001b[43m \u001b[49m\u001b[38;5;241;43m*\u001b[39;49m\u001b[38;5;241;43m*\u001b[39;49m\u001b[43mkwargs\u001b[49m\u001b[43m)\u001b[49m\n",
      "File \u001b[1;32m~\\AppData\\Local\\Programs\\Python\\Python312\\Lib\\site-packages\\librosa\\core\\audio.py:240\u001b[0m, in \u001b[0;36m__audioread_load\u001b[1;34m(path, offset, duration, dtype)\u001b[0m\n\u001b[0;32m    237\u001b[0m     reader \u001b[38;5;241m=\u001b[39m path\n\u001b[0;32m    238\u001b[0m \u001b[38;5;28;01melse\u001b[39;00m:\n\u001b[0;32m    239\u001b[0m     \u001b[38;5;66;03m# If the input was not an audioread object, try to open it\u001b[39;00m\n\u001b[1;32m--> 240\u001b[0m     reader \u001b[38;5;241m=\u001b[39m \u001b[43maudioread\u001b[49m\u001b[38;5;241;43m.\u001b[39;49m\u001b[43maudio_open\u001b[49m\u001b[43m(\u001b[49m\u001b[43mpath\u001b[49m\u001b[43m)\u001b[49m\n\u001b[0;32m    242\u001b[0m \u001b[38;5;28;01mwith\u001b[39;00m reader \u001b[38;5;28;01mas\u001b[39;00m input_file:\n\u001b[0;32m    243\u001b[0m     sr_native \u001b[38;5;241m=\u001b[39m input_file\u001b[38;5;241m.\u001b[39msamplerate\n",
      "File \u001b[1;32m~\\AppData\\Local\\Programs\\Python\\Python312\\Lib\\site-packages\\audioread\\__init__.py:132\u001b[0m, in \u001b[0;36maudio_open\u001b[1;34m(path, backends)\u001b[0m\n\u001b[0;32m    129\u001b[0m         \u001b[38;5;28;01mpass\u001b[39;00m\n\u001b[0;32m    131\u001b[0m \u001b[38;5;66;03m# All backends failed!\u001b[39;00m\n\u001b[1;32m--> 132\u001b[0m \u001b[38;5;28;01mraise\u001b[39;00m NoBackendError()\n",
      "\u001b[1;31mNoBackendError\u001b[0m: "
     ]
    }
   ],
   "source": [
    "y, sr = librosa.load('myaudio.mp3') # store the audio in the two variables y and sr"
   ]
  },
  {
   "cell_type": "markdown",
   "id": "6a25fe69-261b-44f9-baa4-f6edb2867ffe",
   "metadata": {},
   "source": [
    "Librosa doesn't include an audio player, so we'll import a player from IPython and display a player for myaudio.mp3:"
   ]
  },
  {
   "cell_type": "code",
   "execution_count": null,
   "id": "44769695-19f2-430d-bbdc-2686ecaf8bf4",
   "metadata": {},
   "outputs": [],
   "source": [
    "from IPython.display import Audio\n",
    "Audio(data=y, rate=sr)"
   ]
  }
 ],
 "metadata": {
  "kernelspec": {
   "display_name": "Python 3 (ipykernel)",
   "language": "python",
   "name": "python3"
  },
  "language_info": {
   "codemirror_mode": {
    "name": "ipython",
    "version": 3
   },
   "file_extension": ".py",
   "mimetype": "text/x-python",
   "name": "python",
   "nbconvert_exporter": "python",
   "pygments_lexer": "ipython3",
   "version": "3.12.6"
  }
 },
 "nbformat": 4,
 "nbformat_minor": 5
}
