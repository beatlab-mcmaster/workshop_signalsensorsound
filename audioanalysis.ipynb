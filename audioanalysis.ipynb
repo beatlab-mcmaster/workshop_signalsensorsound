{
 "cells": [
  {
   "cell_type": "markdown",
   "id": "0b754e36-02fa-46df-aa4b-b6427931ad1b",
   "metadata": {},
   "source": [
    "[![Open In Colab](https://colab.research.google.com/assets/colab-badge.svg)](https://colab.research.google.com/github/beatlab-mcmaster/workshop_signalsensorsound/blob/main/audioanalysis.ipynb)"
   ]
  },
  {
   "cell_type": "markdown",
   "id": "0ea45a25-7e30-4d93-91d4-3d6e82aecf7e",
   "metadata": {},
   "source": [
    "# Signals, Sensors, Sounds - Pt. 1: Computational Audio Analysis\n",
    "\n",
    "Welcome to Colab! Colab, or \"Google Colaboratory\", lets you write and execute Python code in your browser. This notebook alternates two types of blocks, called \"cells\": **Markdown cells** (like this one) for text, and **code cells** (with a gray background) for Python code.  \n",
    "\n",
    "For example, here is a code cell that computes a value, stores it in a variable, and prints the result:  "
   ]
  },
  {
   "cell_type": "code",
   "execution_count": 6,
   "id": "8378748c-3c36-4302-98e0-89176e1dc7da",
   "metadata": {},
   "outputs": [
    {
     "name": "stdout",
     "output_type": "stream",
     "text": [
      "16\n"
     ]
    }
   ],
   "source": [
    "my_birthyear = 2008\n",
    "my_age = 2024 - my_birthyear\n",
    "print(my_age)"
   ]
  },
  {
   "cell_type": "markdown",
   "id": "59b97495-b602-47c1-9b65-c6b8e5bca99b",
   "metadata": {},
   "source": [
    "To execute, or \"run\", the code in the above cell, hover over the cell and press the play button to the left of the code. You can also run the code by pressing \"Ctrl+Enter\" on your keyboard.  \n",
    "\n",
    "You can edit any code cell and run it to see what happens. If you are new to Python, go ahead and change the variable \"my_birthyear\" in the above cell to your actual birth year, and then run the code. Note that your changes will not permanently alter this notebook - once you close this tab, your changes will be lost. If you want to save a personal copy of your edited notebook, you can use the File menu **File→Save a copy in Drive**."
   ]
  }
 ],
 "metadata": {
  "kernelspec": {
   "display_name": "Python 3 (ipykernel)",
   "language": "python",
   "name": "python3"
  },
  "language_info": {
   "codemirror_mode": {
    "name": "ipython",
    "version": 3
   },
   "file_extension": ".py",
   "mimetype": "text/x-python",
   "name": "python",
   "nbconvert_exporter": "python",
   "pygments_lexer": "ipython3",
   "version": "3.12.6"
  }
 },
 "nbformat": 4,
 "nbformat_minor": 5
}
