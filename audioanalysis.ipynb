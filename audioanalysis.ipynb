{
 "cells": [
  {
   "cell_type": "markdown",
   "id": "0b754e36-02fa-46df-aa4b-b6427931ad1b",
   "metadata": {},
   "source": [
    "[![Open In Colab](https://colab.research.google.com/assets/colab-badge.svg)](https://colab.research.google.com/github/beatlab-mcmaster/workshop_signalsensorsound/blob/main/audioanalysis.ipynb)"
   ]
  },
  {
   "cell_type": "markdown",
   "id": "0ea45a25-7e30-4d93-91d4-3d6e82aecf7e",
   "metadata": {},
   "source": [
    "# Signals, Sensors, Sounds - Pt. 1: Computational Audio Analysis\n",
    "\n",
    "Welcome to Colab! Colab, or \"Google Colaboratory\", lets you write and execute Python code in your browser. This notebook alternates two types of blocks, called \"cells\": **Markdown cells** (like this one) for text, and **code cells** (with a gray background) for Python code.  \n",
    "\n",
    "For example, here is a code cell that computes a value, stores it in a variable, and prints the result. Note that we can add text comments to Python code by using the `#` symbol. Any text between a `#` and the end of the line will be ignored by Python."
   ]
  },
  {
   "cell_type": "code",
   "execution_count": 1,
   "id": "8378748c-3c36-4302-98e0-89176e1dc7da",
   "metadata": {},
   "outputs": [
    {
     "name": "stdout",
     "output_type": "stream",
     "text": [
      "16\n"
     ]
    }
   ],
   "source": [
    "my_birthyear = 2008\n",
    "my_age = 2024 - my_birthyear # compute my age and store it in the variable my_age\n",
    "print(my_age) # print the variable my_age"
   ]
  },
  {
   "cell_type": "markdown",
   "id": "59b97495-b602-47c1-9b65-c6b8e5bca99b",
   "metadata": {},
   "source": [
    "To execute, or \"run\", the code in the above cell, hover over the cell and press the play button to the left of the code. You can also run the code by pressing \"Ctrl+Enter\" on your keyboard.  \n",
    "\n",
    "You can edit any code cell and run it to see what happens. \n",
    "\n",
    "<mark>**Task:** If you are new to Python notebooks, go ahead and change the variable \"my_birthyear\" in the above cell to your actual birth year, and then run the code to calculate your age. </mark>\n",
    "\n",
    "Note that your changes will not permanently alter this notebook - once you close this tab, your changes will be lost. If you want to save a personal copy of your edited notebook, you can use the File menu **File→Save a copy in Drive**.\n",
    "\n",
    "The first chapter of this notebook will give a brief introduction to the foundations of Python. If you are already familiar with Python, feel free to skip ahead to [2. Read an Audio File](#2-read-audio). "
   ]
  },
  {
   "cell_type": "markdown",
   "id": "affc5d79-bb51-48bf-b23d-6a2772945570",
   "metadata": {},
   "source": [
    "## 1. Introduction to Python\n",
    "\n",
    "Let's start with Python basics: variables, lists, functions, and libraries. "
   ]
  },
  {
   "cell_type": "markdown",
   "id": "f2d31238-9123-424d-bb88-66eed4390862",
   "metadata": {},
   "source": [
    "<a id='1-1-variables'></a>\n",
    "### 1.1 Variables\n",
    "\n",
    "In the first code cell, you defined two **variables**, \"my_birthyear\" and \"my_age\", that each store a number. In any future code cells, you can now call the variable name to access the stored number. You can also overwrite the variable at any time to hold a new value, by using the syntax `variable = value`:"
   ]
  },
  {
   "cell_type": "code",
   "execution_count": 2,
   "id": "b1c1a609-3130-492b-ac1a-a51549bef2ac",
   "metadata": {},
   "outputs": [
    {
     "name": "stdout",
     "output_type": "stream",
     "text": [
      "16\n",
      "99\n"
     ]
    }
   ],
   "source": [
    "print(my_age) # access the variable\n",
    "my_age = 99 # overwrite the old value\n",
    "print(my_age) # access the new value"
   ]
  },
  {
   "cell_type": "markdown",
   "id": "5a207218-63c5-4e16-9cdb-fd1903e4b0eb",
   "metadata": {},
   "source": [
    "Variables can not only store numbers (called **\"integers\"** or **\"floats\"**), but also text (called **\"strings\"**), and **Booleans**, which can represent one of two logical values `True` or `False`. Note that some of the operators will behave differently depending on which data type they are used on. The first code cell below assigns integers to the variables a and b, checks their types, and then adds the two integers using the `+` operator. The second code cell assigns strings instead of integers to the variables. The same `+` operator, used on strings instead of integers, concatenates the two strings:"
   ]
  },
  {
   "cell_type": "code",
   "execution_count": 3,
   "id": "e588dc9b-ba47-4f0b-b55d-22daa758f5cc",
   "metadata": {},
   "outputs": [
    {
     "name": "stdout",
     "output_type": "stream",
     "text": [
      "a:  <class 'int'>\n",
      "b:  <class 'int'>\n",
      "a + b =  42\n"
     ]
    }
   ],
   "source": [
    "a = 15 # assign variable a to be an integer\n",
    "b = 27 # assign variable b to be an integer\n",
    "print(\"a: \", type(a)) # check type of variable a\n",
    "print(\"b: \", type(b)) # check type of variable b\n",
    "print(\"a + b = \", a+b) # print a + b"
   ]
  },
  {
   "cell_type": "markdown",
   "id": "dd27707e-a3f7-404d-8ce8-8fad61b05393",
   "metadata": {},
   "source": [
    "<mark>**Task:** Change the operator to multiply the two integers a and b. </mark>"
   ]
  },
  {
   "cell_type": "code",
   "execution_count": 13,
   "id": "4a89fb4d-64db-49d2-b10b-725d4ddd9e00",
   "metadata": {},
   "outputs": [
    {
     "name": "stdout",
     "output_type": "stream",
     "text": [
      "a:  <class 'str'>\n",
      "b:  <class 'str'>\n",
      "a + b =  HelloWorld\n"
     ]
    }
   ],
   "source": [
    "a = \"Hello\" # assign variable a to be a string\n",
    "b = \"World\" # assign variable b to be a string\n",
    "print(\"a: \", type(a)) # check type of variable a\n",
    "print(\"b: \", type(b)) # check type of variable b\n",
    "print(\"a + b = \", a+b) # print a + b"
   ]
  },
  {
   "cell_type": "markdown",
   "id": "93e4f145-31a5-48f0-b8b4-d3a60cd66855",
   "metadata": {},
   "source": [
    "<mark>**Task:** What happens when you try to multiply two strings instead of two integers? </mark>  \n",
    "\n",
    "<mark>**Task:** Change the operator back to `+`. Assign an integer to variable a and a string to variable b. What happens when you try to add the variables now? </mark>"
   ]
  },
  {
   "cell_type": "markdown",
   "id": "337c2033-ad8f-4298-b6b8-00c43bb31801",
   "metadata": {},
   "source": [
    "### 1.2 Lists\n",
    "\n",
    "Variables can also store multiple values in the form of a **list**. Lists are created using square brackets `[]`:"
   ]
  },
  {
   "cell_type": "code",
   "execution_count": 7,
   "id": "640de4e0-e404-4395-9bc1-a0fde4bd6eee",
   "metadata": {},
   "outputs": [
    {
     "name": "stdout",
     "output_type": "stream",
     "text": [
      "['beat', 'metre', 'tempo']\n"
     ]
    }
   ],
   "source": [
    "rhythm = [\"beat\", \"metre\", \"tempo\"] # assign new list to the variable \"rhythm\"\n",
    "print(rhythm)"
   ]
  },
  {
   "cell_type": "markdown",
   "id": "c65d0d86-7aa5-40e5-859d-e36b408e307b",
   "metadata": {},
   "source": [
    "Python lists are ordered, which means that each item has a fixed position in the list. The position is defined by the **index**. Note that the first item has the index 0. Using the index, you can access a specific item from the list: "
   ]
  },
  {
   "cell_type": "code",
   "execution_count": 16,
   "id": "054ecdb0-5c3a-43fd-b0a3-f06291faa6d4",
   "metadata": {},
   "outputs": [
    {
     "name": "stdout",
     "output_type": "stream",
     "text": [
      "metre\n"
     ]
    }
   ],
   "source": [
    "print(rhythm[1]) # print the list item with the index 1"
   ]
  },
  {
   "cell_type": "markdown",
   "id": "60125c2d-a5c1-4557-9532-90d895299a0c",
   "metadata": {},
   "source": [
    "<mark>**Task:** Using the `variable = value` syntax and the correct list index, replace the first item of the rhythm list with \"pulse\". Print your list to see whether it worked. </mark>"
   ]
  },
  {
   "cell_type": "markdown",
   "id": "b854e16a-9462-4e99-a209-d335fcb14016",
   "metadata": {},
   "source": [
    "### 1.3 Functions\n",
    "\n",
    "For operations on variables that go beyond the simple operators `+ - * / =`, you can use **functions**. Functions take the form `functionName(arguments)`. Python comes with handy functions, like `print()` and `type()` which you have already used above. Functions take **arguments** in the function brackets. For functions like `print()` and `type()`, the only argument you need to specify is the variable that you want to print or check the type of. Other functions take several arguments. For example, for the function `round()`, the first argument specifies the object that you want to round, and the second argument specifies the number of decimal places of the output:"
   ]
  },
  {
   "cell_type": "code",
   "execution_count": 17,
   "id": "1841ed73-cb33-4b30-89d7-bb835621f1e4",
   "metadata": {},
   "outputs": [
    {
     "data": {
      "text/plain": [
       "3.14"
      ]
     },
     "execution_count": 17,
     "metadata": {},
     "output_type": "execute_result"
    }
   ],
   "source": [
    "pi = 3.14159265359 \n",
    "round(pi, 2) # round the variable \"pi\" to two digits"
   ]
  },
  {
   "cell_type": "markdown",
   "id": "82dd795a-2efb-414b-99e3-44630139282f",
   "metadata": {},
   "source": [
    "If you want to know which arguments a function takes, or what the function does with the arguments, you can call the `help()` function to read the function documentation: "
   ]
  },
  {
   "cell_type": "code",
   "execution_count": 18,
   "id": "6f6caaf5-6e7f-4772-a78a-0a601ec9f61d",
   "metadata": {},
   "outputs": [
    {
     "name": "stdout",
     "output_type": "stream",
     "text": [
      "Help on built-in function round in module builtins:\n",
      "\n",
      "round(number, ndigits=None)\n",
      "    Round a number to a given precision in decimal digits.\n",
      "\n",
      "    The return value is an integer if ndigits is omitted or None.  Otherwise\n",
      "    the return value has the same type as the number.  ndigits may be negative.\n",
      "\n"
     ]
    }
   ],
   "source": [
    "help(round)"
   ]
  },
  {
   "cell_type": "markdown",
   "id": "610dd0c3-d6e5-4ba6-9f0c-59ec13a85474",
   "metadata": {},
   "source": [
    "The different variable types that were introduced in [1.1. Variables](#1-1-variables) each come with their own functions, called **methods**. To use a method on a variable, instead of passing the variable as an argument, you use the syntax `variable.method()`. For example, `list.count()` counts how often a value (passed as argument) occurs in a list: "
   ]
  },
  {
   "cell_type": "code",
   "execution_count": 23,
   "id": "df07ba07-a77f-4faa-9e52-cf5c64697134",
   "metadata": {},
   "outputs": [
    {
     "data": {
      "text/plain": [
       "4"
      ]
     },
     "execution_count": 23,
     "metadata": {},
     "output_type": "execute_result"
    }
   ],
   "source": [
    "student_ages = [14, 16, 15, 16, 15, 17, 16, 18, 18, 18, 16, 17]\n",
    "student_ages.count(16) # count how often 16 appears in the list"
   ]
  },
  {
   "cell_type": "markdown",
   "id": "ce57b1da-8e39-43d2-bec5-0f5656407cb7",
   "metadata": {},
   "source": [
    "<mark>**Task:** Call `help(list)` to see all methods of the variable type `list`. Try some of them on the student_ages list. </mark> "
   ]
  },
  {
   "cell_type": "markdown",
   "id": "19eafc7b-f88f-4767-a0cb-558c01c96198",
   "metadata": {},
   "source": [
    "A function is nothing but a block of code that was assigned to a function name. When calling the function name, the code is executed. This means that you can write your own functions and execute them by calling the function name that you assigned them. For example, the following code cell defines a function called `my_mean` that computes the mean of all items in a list. Note that the code for the function is indented to delimit where the function code begins and ends. "
   ]
  },
  {
   "cell_type": "code",
   "execution_count": 28,
   "id": "1539bcae-1ed3-4e17-b696-995c8cce1635",
   "metadata": {},
   "outputs": [
    {
     "name": "stdout",
     "output_type": "stream",
     "text": [
      "16.333333333333332\n"
     ]
    }
   ],
   "source": [
    "def my_mean(my_list): \n",
    "    my_sum = sum(my_list) # calculate the sum of all items in the list\n",
    "    my_length = len(my_list) # count how many items are in the list \n",
    "    my_mean = my_sum / my_length # calculate the mean as sum/length\n",
    "    return my_mean # return the variable \"my_mean\"\n",
    "\n",
    "mean_age = my_mean(student_ages)\n",
    "print(mean_age)"
   ]
  },
  {
   "cell_type": "markdown",
   "id": "da574386-c2ca-4eb9-ac8f-7bb9f1836e9f",
   "metadata": {},
   "source": [
    "<mark>**Task:** Write a function that takes two integers as arguments a and b and returns their product. </mark>"
   ]
  },
  {
   "cell_type": "markdown",
   "id": "372ad0c4-58ac-4649-821b-9cce22461c3c",
   "metadata": {},
   "source": [
    "### 1.4 Libraries\n",
    "\n",
    "Luckily, you don't have to write new functions for everything you want to do in Python. Other developers have written functions for common operations and published them in **libraries**. To use the functions in a library, you first need to import the library. For example, the library NumPy is popular for numeric operations on arrays, which are similar to lists but require less computing power. The following code cell imports NumPy (calling it \"np\" as an abbreviation), creates an array, adds a constant to the array, and computes the mean of the result:"
   ]
  },
  {
   "cell_type": "code",
   "execution_count": 29,
   "id": "8bbfa644-f76a-4c61-af07-e5e10e4e99e3",
   "metadata": {},
   "outputs": [
    {
     "ename": "ModuleNotFoundError",
     "evalue": "No module named 'numpy'",
     "output_type": "error",
     "traceback": [
      "\u001b[1;31m---------------------------------------------------------------------------\u001b[0m",
      "\u001b[1;31mModuleNotFoundError\u001b[0m                       Traceback (most recent call last)",
      "Cell \u001b[1;32mIn[29], line 1\u001b[0m\n\u001b[1;32m----> 1\u001b[0m \u001b[38;5;28;01mimport\u001b[39;00m \u001b[38;5;21;01mnumpy\u001b[39;00m \u001b[38;5;28;01mas\u001b[39;00m \u001b[38;5;21;01mnp\u001b[39;00m \u001b[38;5;66;03m# import NumPy library and call it \"np\"\u001b[39;00m\n\u001b[0;32m      3\u001b[0m student_ages \u001b[38;5;241m=\u001b[39m np\u001b[38;5;241m.\u001b[39marray([\u001b[38;5;241m14\u001b[39m, \u001b[38;5;241m16\u001b[39m, \u001b[38;5;241m15\u001b[39m, \u001b[38;5;241m16\u001b[39m, \u001b[38;5;241m15\u001b[39m, \u001b[38;5;241m17\u001b[39m, \u001b[38;5;241m16\u001b[39m, \u001b[38;5;241m18\u001b[39m, \u001b[38;5;241m18\u001b[39m, \u001b[38;5;241m18\u001b[39m, \u001b[38;5;241m16\u001b[39m, \u001b[38;5;241m17\u001b[39m]) \u001b[38;5;66;03m# create a new array\u001b[39;00m\n\u001b[0;32m      4\u001b[0m student_ages_2030 \u001b[38;5;241m=\u001b[39m student_ages \u001b[38;5;241m+\u001b[39m \u001b[38;5;241m6\u001b[39m\n",
      "\u001b[1;31mModuleNotFoundError\u001b[0m: No module named 'numpy'"
     ]
    }
   ],
   "source": [
    "import numpy as np # import NumPy library and call it \"np\"\n",
    "\n",
    "student_ages = np.array([14, 16, 15, 16, 15, 17, 16, 18, 18, 18, 16, 17]) # create a new array\n",
    "student_ages_2030 = student_ages + 6\n",
    "print(student_ages_2030.mean()) # print mean age in 2030"
   ]
  },
  {
   "cell_type": "markdown",
   "id": "cc29970f-e3a9-47be-be13-b2b8176f7ba5",
   "metadata": {},
   "source": [
    "<a id='2-read-audio'></a>\n",
    "## 2. Read and Audio File"
   ]
  }
 ],
 "metadata": {
  "kernelspec": {
   "display_name": "Python 3 (ipykernel)",
   "language": "python",
   "name": "python3"
  },
  "language_info": {
   "codemirror_mode": {
    "name": "ipython",
    "version": 3
   },
   "file_extension": ".py",
   "mimetype": "text/x-python",
   "name": "python",
   "nbconvert_exporter": "python",
   "pygments_lexer": "ipython3",
   "version": "3.12.6"
  }
 },
 "nbformat": 4,
 "nbformat_minor": 5
}
